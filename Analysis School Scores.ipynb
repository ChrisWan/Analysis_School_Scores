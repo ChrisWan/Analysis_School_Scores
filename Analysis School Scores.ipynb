{
 "cells": [
  {
   "cell_type": "code",
   "execution_count": 1,
   "id": "e89be471",
   "metadata": {},
   "outputs": [],
   "source": [
    "import pandas as pd\n",
    "import numpy as np\n",
    "import matplotlib.pyplot as plt\n",
    "import seaborn as sns"
   ]
  },
  {
   "cell_type": "code",
   "execution_count": 2,
   "id": "a1569411",
   "metadata": {},
   "outputs": [],
   "source": [
    "scores = pd.read_csv('test_scores.csv')"
   ]
  },
  {
   "cell_type": "code",
   "execution_count": 3,
   "id": "2baeb379",
   "metadata": {},
   "outputs": [
    {
     "name": "stdout",
     "output_type": "stream",
     "text": [
      "<class 'pandas.core.frame.DataFrame'>\n",
      "RangeIndex: 2133 entries, 0 to 2132\n",
      "Data columns (total 11 columns):\n",
      " #   Column           Non-Null Count  Dtype  \n",
      "---  ------           --------------  -----  \n",
      " 0   school           2133 non-null   object \n",
      " 1   school_setting   2133 non-null   object \n",
      " 2   school_type      2133 non-null   object \n",
      " 3   classroom        2133 non-null   object \n",
      " 4   teaching_method  2133 non-null   object \n",
      " 5   n_student        2133 non-null   float64\n",
      " 6   student_id       2133 non-null   object \n",
      " 7   gender           2133 non-null   object \n",
      " 8   lunch            2133 non-null   object \n",
      " 9   pretest          2133 non-null   float64\n",
      " 10  posttest         2133 non-null   float64\n",
      "dtypes: float64(3), object(8)\n",
      "memory usage: 183.4+ KB\n"
     ]
    }
   ],
   "source": [
    "scores.info()"
   ]
  },
  {
   "cell_type": "code",
   "execution_count": 4,
   "id": "9b2d380a",
   "metadata": {},
   "outputs": [
    {
     "name": "stdout",
     "output_type": "stream",
     "text": [
      "school             0\n",
      "school_setting     0\n",
      "school_type        0\n",
      "classroom          0\n",
      "teaching_method    0\n",
      "n_student          0\n",
      "student_id         0\n",
      "gender             0\n",
      "lunch              0\n",
      "pretest            0\n",
      "posttest           0\n",
      "dtype: int64\n"
     ]
    }
   ],
   "source": [
    "print(scores.isnull().sum())"
   ]
  },
  {
   "cell_type": "code",
   "execution_count": 5,
   "id": "43ca9e1e",
   "metadata": {},
   "outputs": [
    {
     "data": {
      "text/html": [
       "<div>\n",
       "<style scoped>\n",
       "    .dataframe tbody tr th:only-of-type {\n",
       "        vertical-align: middle;\n",
       "    }\n",
       "\n",
       "    .dataframe tbody tr th {\n",
       "        vertical-align: top;\n",
       "    }\n",
       "\n",
       "    .dataframe thead th {\n",
       "        text-align: right;\n",
       "    }\n",
       "</style>\n",
       "<table border=\"1\" class=\"dataframe\">\n",
       "  <thead>\n",
       "    <tr style=\"text-align: right;\">\n",
       "      <th></th>\n",
       "      <th>school</th>\n",
       "      <th>school_setting</th>\n",
       "      <th>school_type</th>\n",
       "      <th>classroom</th>\n",
       "      <th>teaching_method</th>\n",
       "      <th>n_student</th>\n",
       "      <th>student_id</th>\n",
       "      <th>gender</th>\n",
       "      <th>lunch</th>\n",
       "      <th>pretest</th>\n",
       "      <th>posttest</th>\n",
       "    </tr>\n",
       "  </thead>\n",
       "  <tbody>\n",
       "    <tr>\n",
       "      <th>0</th>\n",
       "      <td>ANKYI</td>\n",
       "      <td>Urban</td>\n",
       "      <td>Non-public</td>\n",
       "      <td>6OL</td>\n",
       "      <td>Standard</td>\n",
       "      <td>20.0</td>\n",
       "      <td>2FHT3</td>\n",
       "      <td>Female</td>\n",
       "      <td>Does not qualify</td>\n",
       "      <td>62.0</td>\n",
       "      <td>72.0</td>\n",
       "    </tr>\n",
       "    <tr>\n",
       "      <th>1</th>\n",
       "      <td>ANKYI</td>\n",
       "      <td>Urban</td>\n",
       "      <td>Non-public</td>\n",
       "      <td>6OL</td>\n",
       "      <td>Standard</td>\n",
       "      <td>20.0</td>\n",
       "      <td>3JIVH</td>\n",
       "      <td>Female</td>\n",
       "      <td>Does not qualify</td>\n",
       "      <td>66.0</td>\n",
       "      <td>79.0</td>\n",
       "    </tr>\n",
       "    <tr>\n",
       "      <th>2</th>\n",
       "      <td>ANKYI</td>\n",
       "      <td>Urban</td>\n",
       "      <td>Non-public</td>\n",
       "      <td>6OL</td>\n",
       "      <td>Standard</td>\n",
       "      <td>20.0</td>\n",
       "      <td>3XOWE</td>\n",
       "      <td>Male</td>\n",
       "      <td>Does not qualify</td>\n",
       "      <td>64.0</td>\n",
       "      <td>76.0</td>\n",
       "    </tr>\n",
       "    <tr>\n",
       "      <th>3</th>\n",
       "      <td>ANKYI</td>\n",
       "      <td>Urban</td>\n",
       "      <td>Non-public</td>\n",
       "      <td>6OL</td>\n",
       "      <td>Standard</td>\n",
       "      <td>20.0</td>\n",
       "      <td>556O0</td>\n",
       "      <td>Female</td>\n",
       "      <td>Does not qualify</td>\n",
       "      <td>61.0</td>\n",
       "      <td>77.0</td>\n",
       "    </tr>\n",
       "    <tr>\n",
       "      <th>4</th>\n",
       "      <td>ANKYI</td>\n",
       "      <td>Urban</td>\n",
       "      <td>Non-public</td>\n",
       "      <td>6OL</td>\n",
       "      <td>Standard</td>\n",
       "      <td>20.0</td>\n",
       "      <td>74LOE</td>\n",
       "      <td>Male</td>\n",
       "      <td>Does not qualify</td>\n",
       "      <td>64.0</td>\n",
       "      <td>76.0</td>\n",
       "    </tr>\n",
       "  </tbody>\n",
       "</table>\n",
       "</div>"
      ],
      "text/plain": [
       "  school school_setting school_type classroom teaching_method  n_student  \\\n",
       "0  ANKYI          Urban  Non-public       6OL        Standard       20.0   \n",
       "1  ANKYI          Urban  Non-public       6OL        Standard       20.0   \n",
       "2  ANKYI          Urban  Non-public       6OL        Standard       20.0   \n",
       "3  ANKYI          Urban  Non-public       6OL        Standard       20.0   \n",
       "4  ANKYI          Urban  Non-public       6OL        Standard       20.0   \n",
       "\n",
       "  student_id  gender             lunch  pretest  posttest  \n",
       "0      2FHT3  Female  Does not qualify     62.0      72.0  \n",
       "1      3JIVH  Female  Does not qualify     66.0      79.0  \n",
       "2      3XOWE    Male  Does not qualify     64.0      76.0  \n",
       "3      556O0  Female  Does not qualify     61.0      77.0  \n",
       "4      74LOE    Male  Does not qualify     64.0      76.0  "
      ]
     },
     "execution_count": 5,
     "metadata": {},
     "output_type": "execute_result"
    }
   ],
   "source": [
    "scores.head()"
   ]
  },
  {
   "cell_type": "code",
   "execution_count": 6,
   "id": "06d4d5fd",
   "metadata": {},
   "outputs": [
    {
     "data": {
      "text/plain": [
       "Public        1582\n",
       "Non-public     551\n",
       "Name: school_type, dtype: int64"
      ]
     },
     "execution_count": 6,
     "metadata": {},
     "output_type": "execute_result"
    }
   ],
   "source": [
    "scores['school_type'].value_counts()"
   ]
  },
  {
   "cell_type": "code",
   "execution_count": 7,
   "id": "6210063d",
   "metadata": {},
   "outputs": [],
   "source": [
    "# split public and private schools\n",
    "public = scores[scores['school_type'] == 'Public']\n",
    "private = scores[scores['school_type'] == 'Non-public'] "
   ]
  },
  {
   "cell_type": "code",
   "execution_count": 26,
   "id": "3c32ab8a",
   "metadata": {},
   "outputs": [
    {
     "data": {
      "text/plain": [
       "(0.0, 100.0)"
      ]
     },
     "execution_count": 26,
     "metadata": {},
     "output_type": "execute_result"
    },
    {
     "data": {
      "image/png": "[encoded data removed]",
      "text/plain": [
       "<Figure size 432x288 with 1 Axes>"
      ]
     },
     "metadata": {
      "needs_background": "light"
     },
     "output_type": "display_data"
    }
   ],
   "source": [
    "sns.kdeplot(x='posttest', data=public, label='public', color='red')\n",
    "sns.kdeplot(x='posttest', data=private, label='private', color='blue')\n",
    "plt.legend()\n",
    "plt.xlim(0,100)"
   ]
  },
  {
   "cell_type": "code",
   "execution_count": 25,
   "id": "ff5751e6",
   "metadata": {},
   "outputs": [
    {
     "data": {
      "text/plain": [
       "(0.0, 100.0)"
      ]
     },
     "execution_count": 25,
     "metadata": {},
     "output_type": "execute_result"
    },
    {
     "data": {
      "image/png": "[encoded data removed]",
      "text/plain": [
       "<Figure size 432x288 with 1 Axes>"
      ]
     },
     "metadata": {
      "needs_background": "light"
     },
     "output_type": "display_data"
    }
   ],
   "source": [
    "sns.kdeplot(x='pretest', data=public, label='public', color='red')\n",
    "sns.kdeplot(x='pretest', data=private, label='private', color='blue')\n",
    "plt.legend()\n",
    "plt.xlim(0,100)"
   ]
  },
  {
   "cell_type": "code",
   "execution_count": 36,
   "id": "0c8b9f75",
   "metadata": {},
   "outputs": [
    {
     "data": {
      "text/plain": [
       "<AxesSubplot:>"
      ]
     },
     "execution_count": 36,
     "metadata": {},
     "output_type": "execute_result"
    },
    {
     "data": {
      "image/png": "[encoded data removed]",
      "text/plain": [
       "<Figure size 432x288 with 2 Axes>"
      ]
     },
     "metadata": {
      "needs_background": "light"
     },
     "output_type": "display_data"
    }
   ],
   "source": [
    "sns.heatmap(scores.corr(), annot=True, cmap='flare')"
   ]
  },
  {
   "cell_type": "code",
   "execution_count": 37,
   "id": "f8b7cafb",
   "metadata": {},
   "outputs": [
    {
     "data": {
      "text/plain": [
       "Standard        1373\n",
       "Experimental     760\n",
       "Name: teaching_method, dtype: int64"
      ]
     },
     "execution_count": 37,
     "metadata": {},
     "output_type": "execute_result"
    }
   ],
   "source": [
    "scores['teaching_method'].value_counts()"
   ]
  },
  {
   "cell_type": "code",
   "execution_count": 38,
   "id": "bcdc5f63",
   "metadata": {},
   "outputs": [],
   "source": [
    "exp = scores[scores['teaching_method'] == 'Experimental']\n",
    "std = scores[scores['teaching_method'] == 'Standard'] "
   ]
  },
  {
   "cell_type": "code",
   "execution_count": 135,
   "id": "fbb74768",
   "metadata": {},
   "outputs": [
    {
     "data": {
      "text/plain": [
       "(0.0, 100.0)"
      ]
     },
     "execution_count": 135,
     "metadata": {},
     "output_type": "execute_result"
    },
    {
     "data": {
      "image/png": "[encoded data removed]",
      "text/plain": [
       "<Figure size 432x288 with 1 Axes>"
      ]
     },
     "metadata": {
      "needs_background": "light"
     },
     "output_type": "display_data"
    }
   ],
   "source": [
    "sns.kdeplot(x='posttest', data=exp, label='Experimental', color='red')\n",
    "sns.kdeplot(x='posttest', data=std, label='Standard', color='blue')\n",
    "plt.legend()\n",
    "plt.xlim(0,100)"
   ]
  },
  {
   "cell_type": "code",
   "execution_count": 45,
   "id": "fa338f20",
   "metadata": {},
   "outputs": [],
   "source": [
    "std = public[public['teaching_method'] == 'Standard']\n",
    "exp = public[public['teaching_method'] == 'Experimental']"
   ]
  },
  {
   "cell_type": "code",
   "execution_count": 137,
   "id": "ccf20034",
   "metadata": {},
   "outputs": [
    {
     "data": {
      "text/plain": [
       "(0.0, 100.0)"
      ]
     },
     "execution_count": 137,
     "metadata": {},
     "output_type": "execute_result"
    },
    {
     "data": {
      "image/png": "[encoded data removed]",
      "text/plain": [
       "<Figure size 432x288 with 1 Axes>"
      ]
     },
     "metadata": {
      "needs_background": "light"
     },
     "output_type": "display_data"
    }
   ],
   "source": [
    "sns.kdeplot(x='posttest', data=exp, label='Experimental', color='red')\n",
    "sns.kdeplot(x='posttest', data=std, label='Standard', color='blue')\n",
    "plt.xlim(0,100)"
   ]
  },
  {
   "cell_type": "code",
   "execution_count": 47,
   "id": "e6d8b56c",
   "metadata": {},
   "outputs": [],
   "source": [
    "std = private[private['teaching_method'] == 'Standard']\n",
    "exp = private[private['teaching_method'] == 'Experimental']"
   ]
  },
  {
   "cell_type": "code",
   "execution_count": 48,
   "id": "ea77d32b",
   "metadata": {},
   "outputs": [
    {
     "data": {
      "text/plain": [
       "<matplotlib.legend.Legend at 0x2a3dc2f4220>"
      ]
     },
     "execution_count": 48,
     "metadata": {},
     "output_type": "execute_result"
    },
    {
     "data": {
      "image/png": "[encoded data removed]",
      "text/plain": [
       "<Figure size 432x288 with 1 Axes>"
      ]
     },
     "metadata": {
      "needs_background": "light"
     },
     "output_type": "display_data"
    }
   ],
   "source": [
    "sns.kdeplot(x='pretest', data=exp, label='Experimental', color='red')\n",
    "sns.kdeplot(x='pretest', data=std, label='Standard', color='blue')\n",
    "plt.legend()"
   ]
  },
  {
   "cell_type": "code",
   "execution_count": 50,
   "id": "1e6e93be",
   "metadata": {},
   "outputs": [],
   "source": [
    "urban = scores[scores['school_setting'] == 'Urban']\n",
    "suburban = scores[scores['school_setting'] == 'Suburban']\n",
    "rural = scores[scores['school_setting'] == 'Rural']"
   ]
  },
  {
   "cell_type": "code",
   "execution_count": 138,
   "id": "4f637d38",
   "metadata": {},
   "outputs": [
    {
     "data": {
      "text/plain": [
       "<matplotlib.legend.Legend at 0x2a3e1de2f10>"
      ]
     },
     "execution_count": 138,
     "metadata": {},
     "output_type": "execute_result"
    },
    {
     "data": {
      "image/png": "[encoded data removed]",
      "text/plain": [
       "<Figure size 432x288 with 1 Axes>"
      ]
     },
     "metadata": {
      "needs_background": "light"
     },
     "output_type": "display_data"
    }
   ],
   "source": [
    "sns.kdeplot(x='posttest', data=urban, label='Urban', color='red')\n",
    "sns.kdeplot(x='posttest', data=suburban, label='Suburban', color='blue')\n",
    "sns.kdeplot(x='posttest', data=rural, label='Rural', color='green')\n",
    "plt.legend()"
   ]
  },
  {
   "cell_type": "code",
   "execution_count": 139,
   "id": "6eca1e82",
   "metadata": {},
   "outputs": [
    {
     "data": {
      "text/plain": [
       "<matplotlib.legend.Legend at 0x2a3e1d1bdc0>"
      ]
     },
     "execution_count": 139,
     "metadata": {},
     "output_type": "execute_result"
    },
    {
     "data": {
      "image/png": "[encoded data removed]",
      "text/plain": [
       "<Figure size 432x288 with 1 Axes>"
      ]
     },
     "metadata": {
      "needs_background": "light"
     },
     "output_type": "display_data"
    }
   ],
   "source": [
    "sns.kdeplot(x='pretest', data=urban, label='Urban', color='red')\n",
    "sns.kdeplot(x='pretest', data=suburban, label='Suburban', color='blue')\n",
    "sns.kdeplot(x='pretest', data=rural, label='Rural', color='green')\n",
    "plt.legend()"
   ]
  },
  {
   "cell_type": "code",
   "execution_count": 58,
   "id": "1bafc707",
   "metadata": {},
   "outputs": [
    {
     "data": {
      "text/plain": [
       "count    510.000000\n",
       "mean      64.050980\n",
       "std       12.093827\n",
       "min       36.000000\n",
       "25%       56.000000\n",
       "50%       67.000000\n",
       "75%       73.000000\n",
       "max       88.000000\n",
       "Name: posttest, dtype: float64"
      ]
     },
     "execution_count": 58,
     "metadata": {},
     "output_type": "execute_result"
    }
   ],
   "source": [
    "rural['posttest'].describe()"
   ]
  },
  {
   "cell_type": "code",
   "execution_count": 59,
   "id": "46c6420d",
   "metadata": {},
   "outputs": [
    {
     "data": {
      "text/plain": [
       "array(['ANKYI', 'CCAAW', 'CIMBB', 'CUQAM', 'DNQDD', 'FBUMG', 'GJJHK',\n",
       "       'GOKXL', 'GOOBU', 'IDGFP', 'KFZMY', 'KZKKE', 'LAYPA', 'OJOBU',\n",
       "       'QOQTS', 'UAGPU', 'UKPGS', 'UUUQX', 'VHDHF', 'VKWQH', 'VVTVA',\n",
       "       'ZMNYA', 'ZOWMK'], dtype=object)"
      ]
     },
     "execution_count": 59,
     "metadata": {},
     "output_type": "execute_result"
    }
   ],
   "source": [
    "scores['school'].unique()"
   ]
  },
  {
   "cell_type": "code",
   "execution_count": 62,
   "id": "b4cb5f42",
   "metadata": {},
   "outputs": [],
   "source": [
    "best_pupils = scores.nlargest(int(len(scores)/2), 'posttest')"
   ]
  },
  {
   "cell_type": "code",
   "execution_count": 63,
   "id": "1687352c",
   "metadata": {},
   "outputs": [
    {
     "data": {
      "text/plain": [
       "<AxesSubplot:xlabel='posttest', ylabel='Density'>"
      ]
     },
     "execution_count": 63,
     "metadata": {},
     "output_type": "execute_result"
    },
    {
     "data": {
      "image/png": "[encoded data removed]",
      "text/plain": [
       "<Figure size 432x288 with 1 Axes>"
      ]
     },
     "metadata": {
      "needs_background": "light"
     },
     "output_type": "display_data"
    }
   ],
   "source": [
    "sns.kdeplot(x='posttest', data=best_pupils, label='public', color='red')"
   ]
  },
  {
   "cell_type": "code",
   "execution_count": 66,
   "id": "901eb9cc",
   "metadata": {},
   "outputs": [
    {
     "data": {
      "text/plain": [
       "UKPGS    128\n",
       "CCAAW    108\n",
       "IDGFP     94\n",
       "UUUQX     82\n",
       "CIMBB     69\n",
       "ZMNYA     66\n",
       "UAGPU     61\n",
       "DNQDD     58\n",
       "LAYPA     52\n",
       "OJOBU     46\n",
       "FBUMG     46\n",
       "QOQTS     44\n",
       "VKWQH     40\n",
       "GJJHK     39\n",
       "GOKXL     37\n",
       "CUQAM     37\n",
       "ANKYI     33\n",
       "VHDHF     26\n",
       "Name: school, dtype: int64"
      ]
     },
     "execution_count": 66,
     "metadata": {},
     "output_type": "execute_result"
    }
   ],
   "source": [
    "best_pupils['school'].value_counts()"
   ]
  },
  {
   "cell_type": "code",
   "execution_count": 70,
   "id": "dc3bac18",
   "metadata": {},
   "outputs": [
    {
     "data": {
      "text/plain": [
       "<AxesSubplot:xlabel='posttest', ylabel='Count'>"
      ]
     },
     "execution_count": 70,
     "metadata": {},
     "output_type": "execute_result"
    },
    {
     "data": {
      "image/png": "[encoded data removed]",
      "text/plain": [
       "<Figure size 432x288 with 1 Axes>"
      ]
     },
     "metadata": {
      "needs_background": "light"
     },
     "output_type": "display_data"
    }
   ],
   "source": [
    "sns.histplot(x='posttest', data=best_pupils)"
   ]
  },
  {
   "cell_type": "code",
   "execution_count": 79,
   "id": "77ae9e04",
   "metadata": {},
   "outputs": [
    {
     "data": {
      "text/plain": [
       "UKPGS    63\n",
       "IDGFP    28\n",
       "ZMNYA     9\n",
       "Name: school, dtype: int64"
      ]
     },
     "execution_count": 79,
     "metadata": {},
     "output_type": "execute_result"
    }
   ],
   "source": [
    "best_pupils.nlargest(100, 'posttest')['school'].value_counts()"
   ]
  },
  {
   "cell_type": "code",
   "execution_count": 88,
   "id": "d271c4e3",
   "metadata": {},
   "outputs": [],
   "source": [
    "best_schools = best_pupils[(best_pupils['school'] == 'UKPGS') | (best_pupils['school'] == 'IDGFP') | (best_pupils['school'] == 'ZMNYA')]"
   ]
  },
  {
   "cell_type": "code",
   "execution_count": 89,
   "id": "ef4b3c87",
   "metadata": {},
   "outputs": [
    {
     "data": {
      "text/plain": [
       "(50.0, 100.0)"
      ]
     },
     "execution_count": 89,
     "metadata": {},
     "output_type": "execute_result"
    },
    {
     "data": {
      "image/png": "[encoded data removed]",
      "text/plain": [
       "<Figure size 432x288 with 1 Axes>"
      ]
     },
     "metadata": {
      "needs_background": "light"
     },
     "output_type": "display_data"
    }
   ],
   "source": [
    "sns.kdeplot(x='posttest', data=best_schools)\n",
    "plt.xlim(50,100)"
   ]
  },
  {
   "cell_type": "code",
   "execution_count": 92,
   "id": "af89fe55",
   "metadata": {},
   "outputs": [
    {
     "data": {
      "text/plain": [
       "<AxesSubplot:xlabel='pretest', ylabel='posttest'>"
      ]
     },
     "execution_count": 92,
     "metadata": {},
     "output_type": "execute_result"
    },
    {
     "data": {
      "image/png": "[encoded data removed]",
      "text/plain": [
       "<Figure size 432x288 with 1 Axes>"
      ]
     },
     "metadata": {
      "needs_background": "light"
     },
     "output_type": "display_data"
    }
   ],
   "source": [
    "sns.scatterplot(x='pretest', y='posttest', data=best_pupils, hue='gender')"
   ]
  },
  {
   "cell_type": "code",
   "execution_count": 98,
   "id": "53c876c2",
   "metadata": {},
   "outputs": [
    {
     "data": {
      "text/html": [
       "<div>\n",
       "<style scoped>\n",
       "    .dataframe tbody tr th:only-of-type {\n",
       "        vertical-align: middle;\n",
       "    }\n",
       "\n",
       "    .dataframe tbody tr th {\n",
       "        vertical-align: top;\n",
       "    }\n",
       "\n",
       "    .dataframe thead th {\n",
       "        text-align: right;\n",
       "    }\n",
       "</style>\n",
       "<table border=\"1\" class=\"dataframe\">\n",
       "  <thead>\n",
       "    <tr style=\"text-align: right;\">\n",
       "      <th></th>\n",
       "      <th>gender</th>\n",
       "      <th>Female</th>\n",
       "      <th>Male</th>\n",
       "    </tr>\n",
       "  </thead>\n",
       "  <tbody>\n",
       "    <tr>\n",
       "      <th rowspan=\"8\" valign=\"top\">n_student</th>\n",
       "      <th>count</th>\n",
       "      <td>527.000000</td>\n",
       "      <td>539.000000</td>\n",
       "    </tr>\n",
       "    <tr>\n",
       "      <th>mean</th>\n",
       "      <td>20.622391</td>\n",
       "      <td>20.634508</td>\n",
       "    </tr>\n",
       "    <tr>\n",
       "      <th>std</th>\n",
       "      <td>3.386917</td>\n",
       "      <td>3.550223</td>\n",
       "    </tr>\n",
       "    <tr>\n",
       "      <th>min</th>\n",
       "      <td>14.000000</td>\n",
       "      <td>14.000000</td>\n",
       "    </tr>\n",
       "    <tr>\n",
       "      <th>25%</th>\n",
       "      <td>18.000000</td>\n",
       "      <td>18.000000</td>\n",
       "    </tr>\n",
       "    <tr>\n",
       "      <th>50%</th>\n",
       "      <td>21.000000</td>\n",
       "      <td>21.000000</td>\n",
       "    </tr>\n",
       "    <tr>\n",
       "      <th>75%</th>\n",
       "      <td>23.000000</td>\n",
       "      <td>23.000000</td>\n",
       "    </tr>\n",
       "    <tr>\n",
       "      <th>max</th>\n",
       "      <td>28.000000</td>\n",
       "      <td>28.000000</td>\n",
       "    </tr>\n",
       "    <tr>\n",
       "      <th rowspan=\"8\" valign=\"top\">pretest</th>\n",
       "      <th>count</th>\n",
       "      <td>527.000000</td>\n",
       "      <td>539.000000</td>\n",
       "    </tr>\n",
       "    <tr>\n",
       "      <th>mean</th>\n",
       "      <td>66.121442</td>\n",
       "      <td>65.263451</td>\n",
       "    </tr>\n",
       "    <tr>\n",
       "      <th>std</th>\n",
       "      <td>8.241856</td>\n",
       "      <td>8.222124</td>\n",
       "    </tr>\n",
       "    <tr>\n",
       "      <th>min</th>\n",
       "      <td>46.000000</td>\n",
       "      <td>48.000000</td>\n",
       "    </tr>\n",
       "    <tr>\n",
       "      <th>25%</th>\n",
       "      <td>60.000000</td>\n",
       "      <td>59.000000</td>\n",
       "    </tr>\n",
       "    <tr>\n",
       "      <th>50%</th>\n",
       "      <td>65.000000</td>\n",
       "      <td>64.000000</td>\n",
       "    </tr>\n",
       "    <tr>\n",
       "      <th>75%</th>\n",
       "      <td>71.000000</td>\n",
       "      <td>70.000000</td>\n",
       "    </tr>\n",
       "    <tr>\n",
       "      <th>max</th>\n",
       "      <td>91.000000</td>\n",
       "      <td>93.000000</td>\n",
       "    </tr>\n",
       "    <tr>\n",
       "      <th rowspan=\"8\" valign=\"top\">posttest</th>\n",
       "      <th>count</th>\n",
       "      <td>527.000000</td>\n",
       "      <td>539.000000</td>\n",
       "    </tr>\n",
       "    <tr>\n",
       "      <th>mean</th>\n",
       "      <td>78.897533</td>\n",
       "      <td>78.621521</td>\n",
       "    </tr>\n",
       "    <tr>\n",
       "      <th>std</th>\n",
       "      <td>7.982451</td>\n",
       "      <td>7.882595</td>\n",
       "    </tr>\n",
       "    <tr>\n",
       "      <th>min</th>\n",
       "      <td>68.000000</td>\n",
       "      <td>68.000000</td>\n",
       "    </tr>\n",
       "    <tr>\n",
       "      <th>25%</th>\n",
       "      <td>72.000000</td>\n",
       "      <td>72.000000</td>\n",
       "    </tr>\n",
       "    <tr>\n",
       "      <th>50%</th>\n",
       "      <td>78.000000</td>\n",
       "      <td>77.000000</td>\n",
       "    </tr>\n",
       "    <tr>\n",
       "      <th>75%</th>\n",
       "      <td>84.000000</td>\n",
       "      <td>83.000000</td>\n",
       "    </tr>\n",
       "    <tr>\n",
       "      <th>max</th>\n",
       "      <td>100.000000</td>\n",
       "      <td>100.000000</td>\n",
       "    </tr>\n",
       "  </tbody>\n",
       "</table>\n",
       "</div>"
      ],
      "text/plain": [
       "gender               Female        Male\n",
       "n_student count  527.000000  539.000000\n",
       "          mean    20.622391   20.634508\n",
       "          std      3.386917    3.550223\n",
       "          min     14.000000   14.000000\n",
       "          25%     18.000000   18.000000\n",
       "          50%     21.000000   21.000000\n",
       "          75%     23.000000   23.000000\n",
       "          max     28.000000   28.000000\n",
       "pretest   count  527.000000  539.000000\n",
       "          mean    66.121442   65.263451\n",
       "          std      8.241856    8.222124\n",
       "          min     46.000000   48.000000\n",
       "          25%     60.000000   59.000000\n",
       "          50%     65.000000   64.000000\n",
       "          75%     71.000000   70.000000\n",
       "          max     91.000000   93.000000\n",
       "posttest  count  527.000000  539.000000\n",
       "          mean    78.897533   78.621521\n",
       "          std      7.982451    7.882595\n",
       "          min     68.000000   68.000000\n",
       "          25%     72.000000   72.000000\n",
       "          50%     78.000000   77.000000\n",
       "          75%     84.000000   83.000000\n",
       "          max    100.000000  100.000000"
      ]
     },
     "execution_count": 98,
     "metadata": {},
     "output_type": "execute_result"
    }
   ],
   "source": [
    "best_pupils.groupby('gender').describe().transpose()"
   ]
  },
  {
   "cell_type": "code",
   "execution_count": 129,
   "id": "681fad24",
   "metadata": {},
   "outputs": [
    {
     "data": {
      "text/html": [
       "<div>\n",
       "<style scoped>\n",
       "    .dataframe tbody tr th:only-of-type {\n",
       "        vertical-align: middle;\n",
       "    }\n",
       "\n",
       "    .dataframe tbody tr th {\n",
       "        vertical-align: top;\n",
       "    }\n",
       "\n",
       "    .dataframe thead th {\n",
       "        text-align: right;\n",
       "    }\n",
       "</style>\n",
       "<table border=\"1\" class=\"dataframe\">\n",
       "  <thead>\n",
       "    <tr style=\"text-align: right;\">\n",
       "      <th></th>\n",
       "      <th></th>\n",
       "      <th>posttest</th>\n",
       "      <th>pretest</th>\n",
       "    </tr>\n",
       "    <tr>\n",
       "      <th>school</th>\n",
       "      <th>lunch</th>\n",
       "      <th></th>\n",
       "      <th></th>\n",
       "    </tr>\n",
       "  </thead>\n",
       "  <tbody>\n",
       "    <tr>\n",
       "      <th>UKPGS</th>\n",
       "      <th>Does not qualify</th>\n",
       "      <td>91.0</td>\n",
       "      <td>78.0</td>\n",
       "    </tr>\n",
       "    <tr>\n",
       "      <th>IDGFP</th>\n",
       "      <th>Does not qualify</th>\n",
       "      <td>86.0</td>\n",
       "      <td>74.0</td>\n",
       "    </tr>\n",
       "    <tr>\n",
       "      <th>ZMNYA</th>\n",
       "      <th>Does not qualify</th>\n",
       "      <td>82.0</td>\n",
       "      <td>68.0</td>\n",
       "    </tr>\n",
       "    <tr>\n",
       "      <th>CCAAW</th>\n",
       "      <th>Does not qualify</th>\n",
       "      <td>80.0</td>\n",
       "      <td>66.0</td>\n",
       "    </tr>\n",
       "    <tr>\n",
       "      <th>UUUQX</th>\n",
       "      <th>Does not qualify</th>\n",
       "      <td>79.0</td>\n",
       "      <td>68.0</td>\n",
       "    </tr>\n",
       "    <tr>\n",
       "      <th>FBUMG</th>\n",
       "      <th>Does not qualify</th>\n",
       "      <td>79.0</td>\n",
       "      <td>64.0</td>\n",
       "    </tr>\n",
       "    <tr>\n",
       "      <th>CIMBB</th>\n",
       "      <th>Does not qualify</th>\n",
       "      <td>78.0</td>\n",
       "      <td>66.0</td>\n",
       "    </tr>\n",
       "    <tr>\n",
       "      <th>FBUMG</th>\n",
       "      <th>Qualifies for reduced/free lunch</th>\n",
       "      <td>78.0</td>\n",
       "      <td>63.0</td>\n",
       "    </tr>\n",
       "    <tr>\n",
       "      <th>CCAAW</th>\n",
       "      <th>Qualifies for reduced/free lunch</th>\n",
       "      <td>76.0</td>\n",
       "      <td>63.0</td>\n",
       "    </tr>\n",
       "    <tr>\n",
       "      <th>UUUQX</th>\n",
       "      <th>Qualifies for reduced/free lunch</th>\n",
       "      <td>73.0</td>\n",
       "      <td>61.0</td>\n",
       "    </tr>\n",
       "    <tr>\n",
       "      <th>LAYPA</th>\n",
       "      <th>Does not qualify</th>\n",
       "      <td>72.0</td>\n",
       "      <td>62.0</td>\n",
       "    </tr>\n",
       "    <tr>\n",
       "      <th>ANKYI</th>\n",
       "      <th>Does not qualify</th>\n",
       "      <td>71.5</td>\n",
       "      <td>61.0</td>\n",
       "    </tr>\n",
       "    <tr>\n",
       "      <th>UAGPU</th>\n",
       "      <th>Does not qualify</th>\n",
       "      <td>71.0</td>\n",
       "      <td>63.0</td>\n",
       "    </tr>\n",
       "    <tr>\n",
       "      <th>ZMNYA</th>\n",
       "      <th>Qualifies for reduced/free lunch</th>\n",
       "      <td>70.0</td>\n",
       "      <td>61.0</td>\n",
       "    </tr>\n",
       "    <tr>\n",
       "      <th>VHDHF</th>\n",
       "      <th>Qualifies for reduced/free lunch</th>\n",
       "      <td>69.0</td>\n",
       "      <td>53.0</td>\n",
       "    </tr>\n",
       "    <tr>\n",
       "      <th>CIMBB</th>\n",
       "      <th>Qualifies for reduced/free lunch</th>\n",
       "      <td>69.0</td>\n",
       "      <td>54.0</td>\n",
       "    </tr>\n",
       "    <tr>\n",
       "      <th>GJJHK</th>\n",
       "      <th>Does not qualify</th>\n",
       "      <td>69.0</td>\n",
       "      <td>59.0</td>\n",
       "    </tr>\n",
       "    <tr>\n",
       "      <th>GOKXL</th>\n",
       "      <th>Qualifies for reduced/free lunch</th>\n",
       "      <td>69.0</td>\n",
       "      <td>52.0</td>\n",
       "    </tr>\n",
       "    <tr>\n",
       "      <th>VHDHF</th>\n",
       "      <th>Does not qualify</th>\n",
       "      <td>68.5</td>\n",
       "      <td>55.0</td>\n",
       "    </tr>\n",
       "    <tr>\n",
       "      <th>GOKXL</th>\n",
       "      <th>Does not qualify</th>\n",
       "      <td>68.0</td>\n",
       "      <td>54.0</td>\n",
       "    </tr>\n",
       "    <tr>\n",
       "      <th>OJOBU</th>\n",
       "      <th>Does not qualify</th>\n",
       "      <td>68.0</td>\n",
       "      <td>58.0</td>\n",
       "    </tr>\n",
       "    <tr>\n",
       "      <th rowspan=\"2\" valign=\"top\">DNQDD</th>\n",
       "      <th>Does not qualify</th>\n",
       "      <td>68.0</td>\n",
       "      <td>58.0</td>\n",
       "    </tr>\n",
       "    <tr>\n",
       "      <th>Qualifies for reduced/free lunch</th>\n",
       "      <td>67.0</td>\n",
       "      <td>55.0</td>\n",
       "    </tr>\n",
       "    <tr>\n",
       "      <th>UAGPU</th>\n",
       "      <th>Qualifies for reduced/free lunch</th>\n",
       "      <td>66.0</td>\n",
       "      <td>54.5</td>\n",
       "    </tr>\n",
       "    <tr>\n",
       "      <th>CUQAM</th>\n",
       "      <th>Does not qualify</th>\n",
       "      <td>66.0</td>\n",
       "      <td>54.0</td>\n",
       "    </tr>\n",
       "    <tr>\n",
       "      <th>OJOBU</th>\n",
       "      <th>Qualifies for reduced/free lunch</th>\n",
       "      <td>66.0</td>\n",
       "      <td>55.0</td>\n",
       "    </tr>\n",
       "    <tr>\n",
       "      <th>ANKYI</th>\n",
       "      <th>Qualifies for reduced/free lunch</th>\n",
       "      <td>65.0</td>\n",
       "      <td>56.0</td>\n",
       "    </tr>\n",
       "    <tr>\n",
       "      <th>CUQAM</th>\n",
       "      <th>Qualifies for reduced/free lunch</th>\n",
       "      <td>64.5</td>\n",
       "      <td>50.5</td>\n",
       "    </tr>\n",
       "    <tr>\n",
       "      <th>QOQTS</th>\n",
       "      <th>Qualifies for reduced/free lunch</th>\n",
       "      <td>64.0</td>\n",
       "      <td>52.0</td>\n",
       "    </tr>\n",
       "    <tr>\n",
       "      <th>GJJHK</th>\n",
       "      <th>Qualifies for reduced/free lunch</th>\n",
       "      <td>63.0</td>\n",
       "      <td>52.0</td>\n",
       "    </tr>\n",
       "    <tr>\n",
       "      <th>QOQTS</th>\n",
       "      <th>Does not qualify</th>\n",
       "      <td>62.5</td>\n",
       "      <td>52.0</td>\n",
       "    </tr>\n",
       "    <tr>\n",
       "      <th rowspan=\"2\" valign=\"top\">VKWQH</th>\n",
       "      <th>Qualifies for reduced/free lunch</th>\n",
       "      <td>62.5</td>\n",
       "      <td>53.5</td>\n",
       "    </tr>\n",
       "    <tr>\n",
       "      <th>Does not qualify</th>\n",
       "      <td>61.0</td>\n",
       "      <td>50.0</td>\n",
       "    </tr>\n",
       "    <tr>\n",
       "      <th>VVTVA</th>\n",
       "      <th>Does not qualify</th>\n",
       "      <td>55.5</td>\n",
       "      <td>38.0</td>\n",
       "    </tr>\n",
       "    <tr>\n",
       "      <th>KFZMY</th>\n",
       "      <th>Qualifies for reduced/free lunch</th>\n",
       "      <td>55.0</td>\n",
       "      <td>41.0</td>\n",
       "    </tr>\n",
       "    <tr>\n",
       "      <th>ZOWMK</th>\n",
       "      <th>Does not qualify</th>\n",
       "      <td>55.0</td>\n",
       "      <td>43.0</td>\n",
       "    </tr>\n",
       "    <tr>\n",
       "      <th>KFZMY</th>\n",
       "      <th>Does not qualify</th>\n",
       "      <td>55.0</td>\n",
       "      <td>45.0</td>\n",
       "    </tr>\n",
       "    <tr>\n",
       "      <th>GOOBU</th>\n",
       "      <th>Does not qualify</th>\n",
       "      <td>54.0</td>\n",
       "      <td>40.0</td>\n",
       "    </tr>\n",
       "    <tr>\n",
       "      <th>ZOWMK</th>\n",
       "      <th>Qualifies for reduced/free lunch</th>\n",
       "      <td>52.5</td>\n",
       "      <td>41.0</td>\n",
       "    </tr>\n",
       "    <tr>\n",
       "      <th>GOOBU</th>\n",
       "      <th>Qualifies for reduced/free lunch</th>\n",
       "      <td>50.0</td>\n",
       "      <td>38.0</td>\n",
       "    </tr>\n",
       "    <tr>\n",
       "      <th>VVTVA</th>\n",
       "      <th>Qualifies for reduced/free lunch</th>\n",
       "      <td>49.0</td>\n",
       "      <td>35.0</td>\n",
       "    </tr>\n",
       "    <tr>\n",
       "      <th>KZKKE</th>\n",
       "      <th>Qualifies for reduced/free lunch</th>\n",
       "      <td>45.0</td>\n",
       "      <td>34.0</td>\n",
       "    </tr>\n",
       "  </tbody>\n",
       "</table>\n",
       "</div>"
      ],
      "text/plain": [
       "                                         posttest  pretest\n",
       "school lunch                                              \n",
       "UKPGS  Does not qualify                      91.0     78.0\n",
       "IDGFP  Does not qualify                      86.0     74.0\n",
       "ZMNYA  Does not qualify                      82.0     68.0\n",
       "CCAAW  Does not qualify                      80.0     66.0\n",
       "UUUQX  Does not qualify                      79.0     68.0\n",
       "FBUMG  Does not qualify                      79.0     64.0\n",
       "CIMBB  Does not qualify                      78.0     66.0\n",
       "FBUMG  Qualifies for reduced/free lunch      78.0     63.0\n",
       "CCAAW  Qualifies for reduced/free lunch      76.0     63.0\n",
       "UUUQX  Qualifies for reduced/free lunch      73.0     61.0\n",
       "LAYPA  Does not qualify                      72.0     62.0\n",
       "ANKYI  Does not qualify                      71.5     61.0\n",
       "UAGPU  Does not qualify                      71.0     63.0\n",
       "ZMNYA  Qualifies for reduced/free lunch      70.0     61.0\n",
       "VHDHF  Qualifies for reduced/free lunch      69.0     53.0\n",
       "CIMBB  Qualifies for reduced/free lunch      69.0     54.0\n",
       "GJJHK  Does not qualify                      69.0     59.0\n",
       "GOKXL  Qualifies for reduced/free lunch      69.0     52.0\n",
       "VHDHF  Does not qualify                      68.5     55.0\n",
       "GOKXL  Does not qualify                      68.0     54.0\n",
       "OJOBU  Does not qualify                      68.0     58.0\n",
       "DNQDD  Does not qualify                      68.0     58.0\n",
       "       Qualifies for reduced/free lunch      67.0     55.0\n",
       "UAGPU  Qualifies for reduced/free lunch      66.0     54.5\n",
       "CUQAM  Does not qualify                      66.0     54.0\n",
       "OJOBU  Qualifies for reduced/free lunch      66.0     55.0\n",
       "ANKYI  Qualifies for reduced/free lunch      65.0     56.0\n",
       "CUQAM  Qualifies for reduced/free lunch      64.5     50.5\n",
       "QOQTS  Qualifies for reduced/free lunch      64.0     52.0\n",
       "GJJHK  Qualifies for reduced/free lunch      63.0     52.0\n",
       "QOQTS  Does not qualify                      62.5     52.0\n",
       "VKWQH  Qualifies for reduced/free lunch      62.5     53.5\n",
       "       Does not qualify                      61.0     50.0\n",
       "VVTVA  Does not qualify                      55.5     38.0\n",
       "KFZMY  Qualifies for reduced/free lunch      55.0     41.0\n",
       "ZOWMK  Does not qualify                      55.0     43.0\n",
       "KFZMY  Does not qualify                      55.0     45.0\n",
       "GOOBU  Does not qualify                      54.0     40.0\n",
       "ZOWMK  Qualifies for reduced/free lunch      52.5     41.0\n",
       "GOOBU  Qualifies for reduced/free lunch      50.0     38.0\n",
       "VVTVA  Qualifies for reduced/free lunch      49.0     35.0\n",
       "KZKKE  Qualifies for reduced/free lunch      45.0     34.0"
      ]
     },
     "execution_count": 129,
     "metadata": {},
     "output_type": "execute_result"
    }
   ],
   "source": [
    "# average score by school\n",
    "scores[['posttest', 'school', 'lunch', 'pretest']].groupby(['school', 'lunch']).median().sort_values('posttest', ascending=False)"
   ]
  },
  {
   "cell_type": "code",
   "execution_count": 140,
   "id": "bc23fb22",
   "metadata": {},
   "outputs": [
    {
     "data": {
      "text/html": [
       "<div>\n",
       "<style scoped>\n",
       "    .dataframe tbody tr th:only-of-type {\n",
       "        vertical-align: middle;\n",
       "    }\n",
       "\n",
       "    .dataframe tbody tr th {\n",
       "        vertical-align: top;\n",
       "    }\n",
       "\n",
       "    .dataframe thead th {\n",
       "        text-align: right;\n",
       "    }\n",
       "</style>\n",
       "<table border=\"1\" class=\"dataframe\">\n",
       "  <thead>\n",
       "    <tr style=\"text-align: right;\">\n",
       "      <th></th>\n",
       "      <th></th>\n",
       "      <th>posttest</th>\n",
       "      <th>pretest</th>\n",
       "    </tr>\n",
       "    <tr>\n",
       "      <th>school</th>\n",
       "      <th>school_type</th>\n",
       "      <th></th>\n",
       "      <th></th>\n",
       "    </tr>\n",
       "  </thead>\n",
       "  <tbody>\n",
       "    <tr>\n",
       "      <th>UKPGS</th>\n",
       "      <th>Public</th>\n",
       "      <td>91.0</td>\n",
       "      <td>78.0</td>\n",
       "    </tr>\n",
       "    <tr>\n",
       "      <th>IDGFP</th>\n",
       "      <th>Non-public</th>\n",
       "      <td>86.0</td>\n",
       "      <td>74.0</td>\n",
       "    </tr>\n",
       "    <tr>\n",
       "      <th>ZMNYA</th>\n",
       "      <th>Public</th>\n",
       "      <td>81.0</td>\n",
       "      <td>67.0</td>\n",
       "    </tr>\n",
       "    <tr>\n",
       "      <th>UUUQX</th>\n",
       "      <th>Non-public</th>\n",
       "      <td>79.0</td>\n",
       "      <td>68.0</td>\n",
       "    </tr>\n",
       "    <tr>\n",
       "      <th>FBUMG</th>\n",
       "      <th>Non-public</th>\n",
       "      <td>79.0</td>\n",
       "      <td>63.5</td>\n",
       "    </tr>\n",
       "    <tr>\n",
       "      <th>CCAAW</th>\n",
       "      <th>Non-public</th>\n",
       "      <td>78.0</td>\n",
       "      <td>65.0</td>\n",
       "    </tr>\n",
       "    <tr>\n",
       "      <th>CIMBB</th>\n",
       "      <th>Non-public</th>\n",
       "      <td>78.0</td>\n",
       "      <td>65.5</td>\n",
       "    </tr>\n",
       "    <tr>\n",
       "      <th>LAYPA</th>\n",
       "      <th>Public</th>\n",
       "      <td>72.0</td>\n",
       "      <td>62.0</td>\n",
       "    </tr>\n",
       "    <tr>\n",
       "      <th>UAGPU</th>\n",
       "      <th>Public</th>\n",
       "      <td>71.0</td>\n",
       "      <td>63.0</td>\n",
       "    </tr>\n",
       "    <tr>\n",
       "      <th>ANKYI</th>\n",
       "      <th>Non-public</th>\n",
       "      <td>71.0</td>\n",
       "      <td>61.0</td>\n",
       "    </tr>\n",
       "    <tr>\n",
       "      <th>VHDHF</th>\n",
       "      <th>Non-public</th>\n",
       "      <td>69.0</td>\n",
       "      <td>53.0</td>\n",
       "    </tr>\n",
       "    <tr>\n",
       "      <th>GOKXL</th>\n",
       "      <th>Public</th>\n",
       "      <td>68.5</td>\n",
       "      <td>52.0</td>\n",
       "    </tr>\n",
       "    <tr>\n",
       "      <th>OJOBU</th>\n",
       "      <th>Public</th>\n",
       "      <td>68.0</td>\n",
       "      <td>58.0</td>\n",
       "    </tr>\n",
       "    <tr>\n",
       "      <th>DNQDD</th>\n",
       "      <th>Public</th>\n",
       "      <td>67.0</td>\n",
       "      <td>55.5</td>\n",
       "    </tr>\n",
       "    <tr>\n",
       "      <th>CUQAM</th>\n",
       "      <th>Public</th>\n",
       "      <td>65.0</td>\n",
       "      <td>53.0</td>\n",
       "    </tr>\n",
       "    <tr>\n",
       "      <th>QOQTS</th>\n",
       "      <th>Public</th>\n",
       "      <td>63.0</td>\n",
       "      <td>52.0</td>\n",
       "    </tr>\n",
       "    <tr>\n",
       "      <th>GJJHK</th>\n",
       "      <th>Public</th>\n",
       "      <td>63.0</td>\n",
       "      <td>53.5</td>\n",
       "    </tr>\n",
       "    <tr>\n",
       "      <th>VKWQH</th>\n",
       "      <th>Public</th>\n",
       "      <td>61.0</td>\n",
       "      <td>50.0</td>\n",
       "    </tr>\n",
       "    <tr>\n",
       "      <th>KFZMY</th>\n",
       "      <th>Non-public</th>\n",
       "      <td>55.0</td>\n",
       "      <td>42.0</td>\n",
       "    </tr>\n",
       "    <tr>\n",
       "      <th>ZOWMK</th>\n",
       "      <th>Public</th>\n",
       "      <td>53.0</td>\n",
       "      <td>41.0</td>\n",
       "    </tr>\n",
       "    <tr>\n",
       "      <th>GOOBU</th>\n",
       "      <th>Public</th>\n",
       "      <td>50.0</td>\n",
       "      <td>38.0</td>\n",
       "    </tr>\n",
       "    <tr>\n",
       "      <th>VVTVA</th>\n",
       "      <th>Public</th>\n",
       "      <td>49.0</td>\n",
       "      <td>35.0</td>\n",
       "    </tr>\n",
       "    <tr>\n",
       "      <th>KZKKE</th>\n",
       "      <th>Public</th>\n",
       "      <td>45.0</td>\n",
       "      <td>34.0</td>\n",
       "    </tr>\n",
       "  </tbody>\n",
       "</table>\n",
       "</div>"
      ],
      "text/plain": [
       "                    posttest  pretest\n",
       "school school_type                   \n",
       "UKPGS  Public           91.0     78.0\n",
       "IDGFP  Non-public       86.0     74.0\n",
       "ZMNYA  Public           81.0     67.0\n",
       "UUUQX  Non-public       79.0     68.0\n",
       "FBUMG  Non-public       79.0     63.5\n",
       "CCAAW  Non-public       78.0     65.0\n",
       "CIMBB  Non-public       78.0     65.5\n",
       "LAYPA  Public           72.0     62.0\n",
       "UAGPU  Public           71.0     63.0\n",
       "ANKYI  Non-public       71.0     61.0\n",
       "VHDHF  Non-public       69.0     53.0\n",
       "GOKXL  Public           68.5     52.0\n",
       "OJOBU  Public           68.0     58.0\n",
       "DNQDD  Public           67.0     55.5\n",
       "CUQAM  Public           65.0     53.0\n",
       "QOQTS  Public           63.0     52.0\n",
       "GJJHK  Public           63.0     53.5\n",
       "VKWQH  Public           61.0     50.0\n",
       "KFZMY  Non-public       55.0     42.0\n",
       "ZOWMK  Public           53.0     41.0\n",
       "GOOBU  Public           50.0     38.0\n",
       "VVTVA  Public           49.0     35.0\n",
       "KZKKE  Public           45.0     34.0"
      ]
     },
     "execution_count": 140,
     "metadata": {},
     "output_type": "execute_result"
    }
   ],
   "source": [
    "# average score by school\n",
    "scores[['posttest', 'school', 'school_type', 'pretest']].groupby(['school', 'school_type']).median().sort_values('posttest', ascending=False)"
   ]
  },
  {
   "cell_type": "code",
   "execution_count": 130,
   "id": "84288120",
   "metadata": {},
   "outputs": [],
   "source": [
    "scores['score_diff'] = scores['posttest'] - scores['pretest']"
   ]
  },
  {
   "cell_type": "code",
   "execution_count": 131,
   "id": "bb90254e",
   "metadata": {},
   "outputs": [
    {
     "data": {
      "text/plain": [
       "count    2133.000000\n",
       "mean       12.146273\n",
       "std         4.337560\n",
       "min        -2.000000\n",
       "25%         9.000000\n",
       "50%        12.000000\n",
       "75%        15.000000\n",
       "max        28.000000\n",
       "Name: score_diff, dtype: float64"
      ]
     },
     "execution_count": 131,
     "metadata": {},
     "output_type": "execute_result"
    }
   ],
   "source": [
    "scores['score_diff'].describe()"
   ]
  },
  {
   "cell_type": "code",
   "execution_count": 134,
   "id": "16a00ab9",
   "metadata": {},
   "outputs": [
    {
     "data": {
      "text/html": [
       "<div>\n",
       "<style scoped>\n",
       "    .dataframe tbody tr th:only-of-type {\n",
       "        vertical-align: middle;\n",
       "    }\n",
       "\n",
       "    .dataframe tbody tr th {\n",
       "        vertical-align: top;\n",
       "    }\n",
       "\n",
       "    .dataframe thead th {\n",
       "        text-align: right;\n",
       "    }\n",
       "</style>\n",
       "<table border=\"1\" class=\"dataframe\">\n",
       "  <thead>\n",
       "    <tr style=\"text-align: right;\">\n",
       "      <th></th>\n",
       "      <th>school</th>\n",
       "      <th>school_setting</th>\n",
       "      <th>school_type</th>\n",
       "      <th>classroom</th>\n",
       "      <th>teaching_method</th>\n",
       "      <th>n_student</th>\n",
       "      <th>student_id</th>\n",
       "      <th>gender</th>\n",
       "      <th>lunch</th>\n",
       "      <th>pretest</th>\n",
       "      <th>posttest</th>\n",
       "      <th>score_diff</th>\n",
       "    </tr>\n",
       "  </thead>\n",
       "  <tbody>\n",
       "    <tr>\n",
       "      <th>1976</th>\n",
       "      <td>ZMNYA</td>\n",
       "      <td>Suburban</td>\n",
       "      <td>Public</td>\n",
       "      <td>4NN</td>\n",
       "      <td>Standard</td>\n",
       "      <td>22.0</td>\n",
       "      <td>4KPNR</td>\n",
       "      <td>Female</td>\n",
       "      <td>Does not qualify</td>\n",
       "      <td>74.0</td>\n",
       "      <td>72.0</td>\n",
       "      <td>-2.0</td>\n",
       "    </tr>\n",
       "  </tbody>\n",
       "</table>\n",
       "</div>"
      ],
      "text/plain": [
       "     school school_setting school_type classroom teaching_method  n_student  \\\n",
       "1976  ZMNYA       Suburban      Public       4NN        Standard       22.0   \n",
       "\n",
       "     student_id  gender             lunch  pretest  posttest  score_diff  \n",
       "1976      4KPNR  Female  Does not qualify     74.0      72.0        -2.0  "
      ]
     },
     "execution_count": 134,
     "metadata": {},
     "output_type": "execute_result"
    }
   ],
   "source": [
    "scores.loc[scores['score_diff'] < 0]"
   ]
  },
  {
   "cell_type": "markdown",
   "id": "79574f4d",
   "metadata": {},
   "source": [
    "## What have we learnt?\n",
    "In the first plots, we can clearly see that the scores of childred attending private schools are better than those of their public school fellows. The heatmap clearly shows that there is a strong correlation between pre- and posttest as well as a weak correlation between number of pupils in class and their test scores. The experimental teaching method also seems to be superior but it is important to point out that we did not have as many testing scores of experimental classes. Next, it seems that urban area pupils have overall the worst performance. Suburban areas pupils perform best. For the rest of the analysis, we only look at the 50% of pupils with the best post test scores. We look at their school in order to gain a grasp which schools tend to be better. Then we look at the scores of the best two schools. It seems like that the huge majority of pupils there score 90 points or higher. We also check if there might be a difference of scores depending on gende - seems not to be the case. Lastly, we sort all schools by their corresponding mean score and also check if we can find a pattern between the lunch or school type attribute. Interestingly, all the top schools do not offer any sort of lunch discount. Regarding the school type it is interesting that the best school is public. Nonetheless, from the top schools there are more private than public. The last thing we look at is the average improvement from the pretest to the posttest. On average the pupils have 12 points more on their posttest result. "
   ]
  }
 ],
 "metadata": {
  "kernelspec": {
   "display_name": "Python 3 (ipykernel)",
   "language": "python",
   "name": "python3"
  },
  "language_info": {
   "codemirror_mode": {
    "name": "ipython",
    "version": 3
   },
   "file_extension": ".py",
   "mimetype": "text/x-python",
   "name": "python",
   "nbconvert_exporter": "python",
   "pygments_lexer": "ipython3",
   "version": "3.8.12"
  }
 },
 "nbformat": 4,
 "nbformat_minor": 5
}
